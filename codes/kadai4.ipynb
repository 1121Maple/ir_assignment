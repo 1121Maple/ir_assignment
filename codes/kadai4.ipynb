{
 "cells": [
  {
   "cell_type": "markdown",
   "metadata": {},
   "source": [
    "# 演習課題その4（ランキング学習・検索結果多様化）"
   ]
  },
  {
   "cell_type": "markdown",
   "metadata": {},
   "source": [
    "## 必須課題（１）Ranking SVM\n",
    "\n",
    "以下のテストファイルh30iro/data/svmrank_sample/kadai4_1.datを用意した。"
   ]
  },
  {
   "cell_type": "code",
   "execution_count": 3,
   "metadata": {},
   "outputs": [
    {
     "name": "stdout",
     "output_type": "stream",
     "text": [
      "1 qid:5 1:0 2:0 3:1 4:1 5:0\r\n",
      "2 qid:5 1:0 2:0 3:0 4:0.5 5:0\r\n",
      "3 qid:5 1:1 2:0 3:0 4:0.5 5:0"
     ]
    }
   ],
   "source": [
    "!cat ../data/svmrank_sample/kadai4_1.dat"
   ]
  },
  {
   "cell_type": "markdown",
   "metadata": {},
   "source": [
    "### 予想\n",
    "\n",
    "このテストデータに対する順位は、正解順位と一致すると考えられる。\n",
    "何故ならば、訓練データでは$f_1$の値が1となっているような文書は、どのクエリに対しても重要度が大きいため、3行目の文書の重要度は3になると考えられ、また$f_3$や$f_4$の値が小さい文書の方が、重要度が大きくなる傾向があるためである。"
   ]
  },
  {
   "cell_type": "markdown",
   "metadata": {},
   "source": [
    "## 実験\n",
    "h30iro/codes/5_Learning_to_Rank.ipynbに従って学習を行い、テストを行なった。"
   ]
  },
  {
   "cell_type": "code",
   "execution_count": 7,
   "metadata": {},
   "outputs": [
    {
     "name": "stdout",
     "output_type": "stream",
     "text": [
      "Reading training examples...done\r\n",
      "Training set properties: 5 features, 3 rankings, 12 examples\r\n",
      "NOTE: Adjusted stopping criterion relative to maximum loss: eps=0.004667\r\n",
      "Iter 1: ...*(NumConst=1, SV=1, CEps=4.6667, QPEps=0.0000)\r\n",
      "Iter 2: ...*(NumConst=2, SV=1, CEps=4.2166, QPEps=0.0000)\r\n",
      "Iter 3: ...(NumConst=2, SV=1, CEps=0.0000, QPEps=0.0000)\r\n",
      "Final epsilon on KKT-Conditions: 0.00000\r\n",
      "Upper bound on duality gap: -0.00000\r\n",
      "Dual objective value: dval=0.13325\r\n",
      "Primal objective value: pval=0.13325\r\n",
      "Total number of constraints in final working set: 2 (of 2)\r\n",
      "Number of iterations: 3\r\n",
      "Number of calls to 'find_most_violated_constraint': 9\r\n",
      "Number of SV: 1 \r\n",
      "Norm of weight vector: |w|=0.11619\r\n",
      "Value of slack variable (on working set): xi=4.21663\r\n",
      "Value of slack variable (global): xi=4.21663\r\n",
      "Norm of longest difference vector: ||Psi(x,y)-Psi(x,ybar)||=3.87313\r\n",
      "Runtime in cpu-seconds: 0.00\r\n",
      "Compacting linear model...done\r\n",
      "Writing learned model...done\r\n"
     ]
    }
   ],
   "source": [
    "! ../bin/svm_rank_learn -c 0.03 ../data/svmrank_sample/train.dat ../data/svmrank_sample/model"
   ]
  },
  {
   "cell_type": "code",
   "execution_count": 8,
   "metadata": {},
   "outputs": [
    {
     "name": "stdout",
     "output_type": "stream",
     "text": [
      "Reading model...done.\r\n",
      "Reading test examples...done.\r\n",
      "Classifying test examples...done\r\n",
      "Runtime (without IO) in cpu-seconds: 0.00\r\n",
      "Average loss on test set: 0.0000\r\n",
      "Zero/one-error on test set: 0.00% (1 correct, 0 incorrect, 1 total)\r\n",
      "NOTE: The loss reported above is the fraction of swapped pairs averaged over\r\n",
      "      all rankings. The zero/one-error is fraction of perfectly correct\r\n",
      "      rankings!\r\n",
      "Total Num Swappedpairs  :      0\r\n",
      "Avg Swappedpairs Percent:   0.00\r\n"
     ]
    }
   ],
   "source": [
    "! ../bin/svm_rank_classify ../data/svmrank_sample/kadai4_1.dat ../data/svmrank_sample/model ../data/svmrank_sample/prediction"
   ]
  },
  {
   "cell_type": "markdown",
   "metadata": {},
   "source": [
    "### 結果\n",
    "kadai4_1.datに適用した結果は以下のようになった。"
   ]
  },
  {
   "cell_type": "code",
   "execution_count": 6,
   "metadata": {},
   "outputs": [
    {
     "name": "stdout",
     "output_type": "stream",
     "text": [
      "-0.05100000\r\n",
      "-0.00050000\r\n",
      "0.09949999\r\n"
     ]
    }
   ],
   "source": [
    "!cat ../data/svmrank_sample/prediction"
   ]
  },
  {
   "cell_type": "markdown",
   "metadata": {},
   "source": [
    "したがって[$d_3$, $d_2$, $d_1$]がSVM-rankが出力したランキングであり、これは予想と一致している。"
   ]
  },
  {
   "cell_type": "code",
   "execution_count": null,
   "metadata": {},
   "outputs": [],
   "source": []
  }
 ],
 "metadata": {
  "kernelspec": {
   "display_name": "Python 3",
   "language": "python",
   "name": "python3"
  },
  "language_info": {
   "codemirror_mode": {
    "name": "ipython",
    "version": 3
   },
   "file_extension": ".py",
   "mimetype": "text/x-python",
   "name": "python",
   "nbconvert_exporter": "python",
   "pygments_lexer": "ipython3",
   "version": "3.6.5"
  }
 },
 "nbformat": 4,
 "nbformat_minor": 2
}
